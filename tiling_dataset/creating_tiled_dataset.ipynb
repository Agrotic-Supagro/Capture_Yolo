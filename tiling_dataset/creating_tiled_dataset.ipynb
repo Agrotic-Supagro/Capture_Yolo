{
 "cells": [
  {
   "cell_type": "code",
   "execution_count": 14,
   "id": "451fea43",
   "metadata": {},
   "outputs": [
    {
     "name": "stdout",
     "output_type": "stream",
     "text": [
      "Dataset creation completed:\n",
      "Successfully copied: 647 image-label pairs\n",
      "Failed to copy: 0 image-label pairs\n"
     ]
    }
   ],
   "source": [
    "import os\n",
    "import shutil\n",
    "import random\n",
    "\n",
    "# Define the paths\n",
    "labels_folder = '../../../Downloads/yolo-tiling-main/yolo_tiler/tiled_data/valid/labels'  # Path to the folder containing label files\n",
    "images_folder = '../../../Downloads/yolo-tiling-main/yolo_tiler/tiled_data/valid/images'\n",
    "new_dataset_folder = './tiled_data/valid/'  # Path to the new dataset folder\n",
    "\n",
    "# Create the new dataset folder if it doesn't exist\n",
    "os.makedirs(new_dataset_folder, exist_ok=True)\n",
    "os.makedirs(os.path.join(new_dataset_folder, 'images'), exist_ok=True)\n",
    "os.makedirs(os.path.join(new_dataset_folder, 'labels'), exist_ok=True)\n",
    "\n",
    "# Lists to store images with and without bounding boxes\n",
    "images_with_boxes = []\n",
    "images_without_boxes = []\n",
    "# Read the annotation files\n",
    "for label_file in os.listdir(labels_folder):\n",
    "    if label_file.endswith('.txt'):\n",
    "        label_path = os.path.join(labels_folder, label_file)\n",
    "        with open(label_path, 'r') as file:\n",
    "            lines = file.readlines()\n",
    "            if lines:  # If there are annotations in the file\n",
    "                images_with_boxes.append(label_file.replace('.txt', ''))\n",
    "            else:\n",
    "                images_without_boxes.append(label_file.replace('.txt', ''))\n",
    "\n",
    "# Select a few random images without bounding boxes\n",
    "random.shuffle(images_without_boxes)\n",
    "selected_images_without_boxes = images_without_boxes[:150]  # Change 150 to the number of examples you want\n",
    "\n",
    "# Combine the lists\n",
    "selected_images = images_with_boxes + selected_images_without_boxes\n",
    "successful_copies = 0\n",
    "failed_copies = 0\n",
    "\n",
    "for image_name in selected_images:\n",
    "    try:\n",
    "        # Check if image exists\n",
    "        src_image_path = os.path.join(images_folder, image_name + '.jpg')\n",
    "        src_label_path = os.path.join(labels_folder, image_name + '.txt')\n",
    "        \n",
    "        if not os.path.exists(src_image_path):\n",
    "            print(f\"Warning: Image not found: {src_image_path}\")\n",
    "            failed_copies += 1\n",
    "            continue\n",
    "            \n",
    "        # Copy image\n",
    "        dst_image_path = os.path.join(new_dataset_folder, 'images', image_name + '.jpg')\n",
    "        shutil.copy(src_image_path, dst_image_path)\n",
    "\n",
    "        # Copy annotation\n",
    "        dst_label_path = os.path.join(new_dataset_folder, 'labels', image_name + '.txt')\n",
    "        shutil.copy(src_label_path, dst_label_path)\n",
    "        \n",
    "        successful_copies += 1\n",
    "        \n",
    "    except Exception as e:\n",
    "        print(f\"Error processing {image_name}: {str(e)}\")\n",
    "        failed_copies += 1\n",
    "        continue\n",
    "\n",
    "print(f\"Dataset creation completed:\")\n",
    "print(f\"Successfully copied: {successful_copies} image-label pairs\")\n",
    "print(f\"Failed to copy: {failed_copies} image-label pairs\")"
   ]
  },
  {
   "cell_type": "code",
   "execution_count": null,
   "id": "5b11a302",
   "metadata": {},
   "outputs": [],
   "source": []
  }
 ],
 "metadata": {
  "kernelspec": {
   "display_name": "env_ultra",
   "language": "python",
   "name": "python3"
  },
  "language_info": {
   "codemirror_mode": {
    "name": "ipython",
    "version": 3
   },
   "file_extension": ".py",
   "mimetype": "text/x-python",
   "name": "python",
   "nbconvert_exporter": "python",
   "pygments_lexer": "ipython3",
   "version": "3.9.13"
  }
 },
 "nbformat": 4,
 "nbformat_minor": 5
}
